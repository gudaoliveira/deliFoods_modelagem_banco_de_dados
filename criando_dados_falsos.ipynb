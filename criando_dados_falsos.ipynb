{
 "cells": [
  {
   "cell_type": "markdown",
   "id": "bf75ee11",
   "metadata": {},
   "source": [
    "# Criando os dados para a tabela de clientes\n",
    "\n",
    "Estes nomes foram coletados através de um prompt simples fornecido para o ChatGPT"
   ]
  },
  {
   "cell_type": "code",
   "execution_count": null,
   "id": "c74373bd",
   "metadata": {},
   "outputs": [],
   "source": [
    "nomes_de_pessoas = [\n",
    "    'Lucas Oliveira',\n",
    "    'Isabela Santos',\n",
    "    'Rafael Lima',\n",
    "    'Mariana Costa',\n",
    "    'Gustavo Pereira',\n",
    "    'Ana Souza',\n",
    "    'Pedro Almeida',\n",
    "    'Juliana Silva',\n",
    "    'Gabriel Rocha',\n",
    "    'Carolina Mendes',\n",
    "    'Thiago Oliveira',\n",
    "    'Amanda Santos',\n",
    "    'Bruno Costa',\n",
    "    'Larissa Lima',\n",
    "    'Eduardo Pereira',\n",
    "    'Beatriz Oliveira',\n",
    "    'Daniel Silva',\n",
    "    'Giovanna Almeida',\n",
    "    'Matheus Rocha',\n",
    "    'Camila Lima',\n",
    "    'Lucas Rodrigues',\n",
    "    'Gabriela Souza',\n",
    "    'Henrique Almeida',\n",
    "    'Isabella Pereira',\n",
    "    'Vinícius Costa',\n",
    "    'Fernanda Oliveira',\n",
    "    'André Santos',\n",
    "    'Raquel Lima',\n",
    "    'Rodrigo Rocha',\n",
    "    'Júlia Almeida'\n",
    "]"
   ]
  },
  {
   "cell_type": "code",
   "execution_count": null,
   "id": "9a1766c2",
   "metadata": {},
   "outputs": [],
   "source": [
    "endereco_cl = [\n",
    "    'Rua dos Barcos, 192',\n",
    "    'Viela dos Corais, 175',\n",
    "    'Beco das Marés, 196',\n",
    "    'Travessa dos Piratas, 657',\n",
    "    'Alameda das Âncoras, 22',\n",
    "    'Praça dos Náufragos, 818',\n",
    "    'Avenida dos Recifes, 779',\n",
    "    'Rua das Conchas, 538',\n",
    "    'Viela dos Tubarões, 737',\n",
    "    'Beco dos Golfinhos, 226',\n",
    "    'Travessa das Tartarugas, 601',\n",
    "    'Alameda das Baleias, 886',\n",
    "    'Praça dos Moluscos, 569',\n",
    "    'Avenida dos Oceanos, 44',\n",
    "    'Rua dos Navios, 916',\n",
    "    'Viela dos Peixes, 503',\n",
    "    'Beco das Ostras, 952',\n",
    "    'Travessa das Águas, 197',\n",
    "    'Alameda dos Leme, 109',\n",
    "    'Praça das Marés, 91',\n",
    "    'Avenida das Dunas, 687',\n",
    "    'Rua dos Surfistas, 969',\n",
    "    'Viela das Conquistas, 237',\n",
    "    'Beco dos Coqueiros, 485',\n",
    "    'Travessa dos Cocos, 655',\n",
    "    'Alameda dos Abacaxis, 385',\n",
    "    'Praça das Mangas, 256',\n",
    "    'Avenida dos Cajueiros, 596',\n",
    "    'Rua das Pitangas, 760',\n",
    "    'Viela dos Guaranis, 215'\n",
    "]"
   ]
  },
  {
   "cell_type": "markdown",
   "id": "5c446550",
   "metadata": {},
   "source": [
    "## Gerando os emails falsos"
   ]
  },
  {
   "cell_type": "code",
   "execution_count": null,
   "id": "509743ca",
   "metadata": {},
   "outputs": [],
   "source": [
    "import random\n",
    "import string\n",
    "\n",
    "def gerar_email():\n",
    "    nome = ''.join(random.choice(string.ascii_lowercase) for _ in range(random.randint(5, 10)))\n",
    "    dominio = ''.join(random.choice(string.ascii_lowercase) for _ in range(random.randint(5, 10)))\n",
    "    extensao = random.choice(['com', 'net', 'org', 'gov'])\n",
    "\n",
    "    return f\"{nome}@{dominio}.{extensao}\"\n",
    "\n",
    "emails_aleatorios = [gerar_email() for _ in range(30)]\n",
    "\n",
    "# Exemplo de uso:\n",
    "print(emails_aleatorios)"
   ]
  },
  {
   "cell_type": "markdown",
   "id": "2ac45f7e",
   "metadata": {},
   "source": [
    "# Gerando os números de telefones falsos"
   ]
  },
  {
   "cell_type": "code",
   "execution_count": null,
   "id": "b8f71537",
   "metadata": {},
   "outputs": [],
   "source": [
    "numeros_clientes = [\n",
    "    12345678, 98765432, 87654321, 23456789, 56789012,\n",
    "    34567890, 89012345, 45678901, 54321098, 67890123,\n",
    "    21098765, 78901234, 13246578, 87654301, 65432109,\n",
    "    10987654, 54321076, 89076541, 45678923, 67890134,\n",
    "    34120987, 99876543, 76543210, 98701234, 56781234,\n",
    "    45670981, 87654389, 43210987, 89015672, 56789023\n",
    "]\n"
   ]
  },
  {
   "cell_type": "code",
   "execution_count": null,
   "id": "fd3a30ec",
   "metadata": {},
   "outputs": [],
   "source": [
    "for i in range(len(emails_aleatorios)):\n",
    "    print(f\"('{nomes_de_pessoas[i]}', '{endereco_cl[i]}', 'Diamantina', '{emails_aleatorios[i]}', {numeros_clientes[i]}),\")"
   ]
  },
  {
   "cell_type": "markdown",
   "id": "abcd4164",
   "metadata": {},
   "source": [
    "_____________"
   ]
  },
  {
   "cell_type": "markdown",
   "id": "e0847c7d",
   "metadata": {},
   "source": [
    "# Criando tabela fictícia de restaurantes\n",
    "\n",
    "Alguns destes nomes também foram coletados através de um prompt simples fornecido para o ChatGPT"
   ]
  },
  {
   "cell_type": "code",
   "execution_count": null,
   "id": "d47b64a0",
   "metadata": {},
   "outputs": [],
   "source": [
    "nomes_de_restaurantes_sp = [\n",
    "    \"Sabores Paulistanos\",\n",
    "    \"Sabor da Vila\",\n",
    "    \"Cantinho Gastronômico\",\n",
    "    \"Delícias do Bairro\",\n",
    "    \"Gastronomia Urbana\",\n",
    "    \"Sabor e Arte\",\n",
    "    \"Prazeres da Mesa\",\n",
    "    \"Rota dos Sabores\",\n",
    "    \"Sabores do Brasil\",\n",
    "    \"Cozinha Paulistana\"\n",
    "]\n"
   ]
  },
  {
   "cell_type": "code",
   "execution_count": null,
   "id": "79cb3a71",
   "metadata": {},
   "outputs": [],
   "source": [
    "nomes_de_ruas_sp = ['Rua da Esperança, 586',\n",
    "'Avenida dos Ipês, 319',\n",
    "'Travessa da Liberdade, 112',\n",
    "'Alameda das Palmeiras, 88',\n",
    "'Praça do Sol, 108',\n",
    "'Viela das Violetas, 764',\n",
    "'Beco das Maritacas, 913',\n",
    "'Rua das Jabuticabeiras, 193',\n",
    "'Avenida dos Girassóis, 27',\n",
    "'Travessa do Riacho, 951']"
   ]
  },
  {
   "cell_type": "code",
   "execution_count": null,
   "id": "f42fb17a",
   "metadata": {},
   "outputs": [],
   "source": [
    "numeros_restaurantes = [98765401, 45678912, 10987623, 23456781, 67890145,\n",
    "    34567891, 89012367, 56780123, 87654321, 43210987]"
   ]
  },
  {
   "cell_type": "code",
   "execution_count": null,
   "id": "a7776280",
   "metadata": {},
   "outputs": [],
   "source": [
    "tuplas_end = []\n",
    "for i in range(len(nomes_de_ruas_sp)):\n",
    "    print(f\"('{nomes_de_restaurantes_sp[i]}', '{nomes_de_ruas_sp[i]}', 'Diamantina', {numeros_restaurantes[i]})\")"
   ]
  },
  {
   "cell_type": "code",
   "execution_count": null,
   "id": "9b09a794",
   "metadata": {
    "scrolled": false
   },
   "outputs": [],
   "source": [
    "import random\n",
    "\n",
    "for i in range(200):\n",
    "    print(f\"{random.randrange(1,4)}\")"
   ]
  },
  {
   "cell_type": "markdown",
   "id": "dffb5c1e",
   "metadata": {},
   "source": [
    "# Criando uma tabela de produtos\n",
    "\n",
    "Estes produtos, bem como os seus valores foram definidos por nós"
   ]
  },
  {
   "cell_type": "code",
   "execution_count": null,
   "id": "0ede8847",
   "metadata": {},
   "outputs": [],
   "source": [
    "itens = [\n",
    "    \"X-Burguer\", \"X-Salada\", \"X-Tudo\", \"Batata Frita\", \"Refrigerante\", \"Suco\",\n",
    "    \"X-Burguer\", \"X-Salada\", \"X-Tudo\", \"Batata Frita\", \"Refrigerante\", \"Suco\",\n",
    "    \"Pastel de Carne\", \"Pastel de Queijo\", \"Pastel de Frango\", \"Pastel de Palmito\", \"Refrigerante\", \"Suco\",\n",
    "    \"Pizza de Mussarela\", \"Pizza de Calabresa\", \"Pizza de Frango\", \"Pizza de Napolitana\", \"Refrigerante\", \"Suco\",\n",
    "    \"Pastel de Carne\", \"Pastel de Queijo\", \"Pastel de Frango\", \"Pastel de Palmito\", \"Refrigerante\", \"Suco\",\n",
    "    \"Pizza de Mussarela\", \"Pizza de Calabresa\", \"Pizza de Frango\", \"Pizza de Napolitana\", \"Refrigerante\", \"Suco\",\n",
    "    \"Parmegiana\", \"Feijoada\", \"Nhoque\", \"Macarrão\", \"Refrigerante\", \"Suco\",\n",
    "    \"Parmegiana\", \"Feijoada\", \"Nhoque\", \"Macarrão\", \"Refrigerante\", \"Suco\",\n",
    "    \"X-Burguer\", \"X-Salada\", \"X-Tudo\", \"Batata Frita\", \"Refrigerante\", \"Suco\",\n",
    "    \"Parmegiana\", \"Feijoada\", \"Nhoque\", \"Macarrão\", \"Refrigerante\", \"Suco\"\n",
    "]"
   ]
  },
  {
   "cell_type": "code",
   "execution_count": null,
   "id": "d7a21eb4",
   "metadata": {},
   "outputs": [],
   "source": [
    "valores = [\n",
    "    11.00, 15.00, 23.00, 10.00, 6.00, 7.00, 13.00, 17.00, 22.00, 12.00,\n",
    "    8.50, 9.00, 14.00, 15.00, 17.50, 14.00, 10.00, 10.00, 45.00, 38.00,\n",
    "    37.50, 36.00, 7.50, 6.50, 12.00, 14.00, 14.50, 13.50, 7.00, 7.50,\n",
    "    34.00, 35.00, 36.50, 41.00, 6.50, 6.00, 28.00, 26.00, 18.00, 21.50,\n",
    "    5.50, 6.00, 21.00, 18.00, 20.00, 19.50, 8.00, 10.50, 19.00, 25.00,\n",
    "    33.50, 12.00, 9.00, 7.50, 25.00, 21.50, 30.50, 27.50, 8.50, 9.00\n",
    "]\n",
    "\n",
    "id_rest = [\n",
    "    1, 1, 1, 1, 1, 1, 2, 2, 2, 2, 2, 2, 3, 3, 3, 3, 3, 3, 4, 4, 4, 4, 4, 4,\n",
    "    5, 5, 5, 5, 5, 5, 6, 6, 6, 6, 6, 6, 7, 7, 7, 7, 7, 7, 8, 8, 8, 8, 8, 8,\n",
    "    9, 9, 9, 9, 9, 9, 10, 10, 10, 10, 10, 10\n",
    "]"
   ]
  },
  {
   "cell_type": "code",
   "execution_count": null,
   "id": "e0f8ca15",
   "metadata": {},
   "outputs": [],
   "source": [
    "for i in range(len(itens)):\n",
    "    print(f\"({id_rest[i]}, '{itens[i].title()}', {valores[i]}),\")"
   ]
  },
  {
   "cell_type": "markdown",
   "id": "89d252e7",
   "metadata": {},
   "source": [
    "# Criando a lista de pedidos"
   ]
  },
  {
   "cell_type": "code",
   "execution_count": null,
   "id": "f6b819b8",
   "metadata": {},
   "outputs": [],
   "source": [
    "import random"
   ]
  },
  {
   "cell_type": "code",
   "execution_count": null,
   "id": "55f0415d",
   "metadata": {},
   "outputs": [],
   "source": [
    "lista_status = [\"Cancelado\",\"Entregue\"]"
   ]
  },
  {
   "cell_type": "code",
   "execution_count": null,
   "id": "d47fb810",
   "metadata": {},
   "outputs": [],
   "source": [
    "from datetime import datetime, timedelta\n",
    "\n",
    "# Número total de horários desejados\n",
    "total_horarios = 100\n",
    "\n",
    "# Lista para armazenar os horários gerados\n",
    "horarios_gerados = []\n",
    "\n",
    "# Gerar 100 horários entre 12h e 2h\n",
    "for _ in range(total_horarios):\n",
    "    horario_aleatorio = datetime(2023, 1, 1,\n",
    "                                 hour=random.randint(0, 1),\n",
    "                                 minute=random.randint(0, 59),\n",
    "                                 second=random.randint(0, 59))\n",
    "    horarios_gerados.append(horario_aleatorio)\n",
    "\n",
    "# Imprimir os horários gerados\n",
    "for horario in horarios_gerados:\n",
    "    print(horario.strftime('%Y-%m-%d %H:%M:%S'))"
   ]
  },
  {
   "cell_type": "code",
   "execution_count": null,
   "id": "70702391",
   "metadata": {
    "scrolled": true
   },
   "outputs": [],
   "source": [
    "from datetime import datetime, timedelta\n",
    "\n",
    "# Lista para armazenar os horários\n",
    "lista_horarios = []\n",
    "\n",
    "# Gerar 100 datas e horários aleatórios para o ano de 2023\n",
    "for _ in range(100):\n",
    "    data_aleatoria = datetime(2023, 1, 1) + timedelta(days=random.randint(0, 364),\n",
    "                                                        hours=random.randint(0, 23),\n",
    "                                                        minutes=random.randint(0, 59),\n",
    "                                                        seconds=random.randint(0, 59))\n",
    "    lista_horarios.append(data_aleatoria)\n",
    "\n",
    "# Filtrar apenas os horários entre 12h e 2h da manhã\n",
    "horarios_filtrados = [horario for horario in lista_horarios if 0 <= horario.hour < 2 or 12 <= horario.hour < 24]\n",
    "\n",
    "# Imprimir a lista filtrada\n",
    "for horario in horarios_filtrados:\n",
    "    print(f\"('{horario}', '{random.choice(lista_status)}', {round(random.uniform(10.0,200.0),2)}, {random.randrange(1,10)})\")"
   ]
  },
  {
   "cell_type": "code",
   "execution_count": null,
   "id": "01380245",
   "metadata": {},
   "outputs": [],
   "source": [
    "\n",
    "lista_valores = [1, 1, 1, 1, 1, 1,\n",
    "                 2, 2, 2, 2, 2, 2,\n",
    "                 3, 3, 3, 3, 3, 3,\n",
    "                 4, 4, 4, 4, 4, 4,\n",
    "                 5, 5, 5, 5, 5, 5,\n",
    "                 6, 6, 6, 6, 6, 6,\n",
    "                 7, 7, 7, 7, 7, 7,\n",
    "                 8, 8, 8, 8, 8, 8,\n",
    "                 9, 9, 9, 9, 9, 9,\n",
    "                 10, 10, 10, 10, 10, 10]\n",
    "\n",
    "lista_itens = [\n",
    "    \"X-Burguer\", \"X-Salada\", \"X-Tudo\", \"Batata Frita\", \"Refrigerante\", \"Suco\",\n",
    "    \"X-Burguer\", \"X-Salada\", \"X-Tudo\", \"Batata Frita\", \"Refrigerante\", \"Suco\",\n",
    "    \"Carne\", \"Queijo\", \"Frango\", \"Palmito\", \"Refrigerante\", \"Suco\",\n",
    "    \"Mussarela\", \"Calabresa\", \"Frango\", \"Napolitana\", \"Refrigerante\", \"Suco\",\n",
    "    \"Carne\", \"Queijo\", \"Frango\", \"Palmito\", \"Refrigerante\", \"Suco\",\n",
    "    \"Mussarela\", \"Calabresa\", \"Frango\", \"Napolitana\", \"Refrigerante\", \"Suco\",\n",
    "    \"Parmegiana\", \"Feijoada\", \"Nhoque\", \"Macarrão\", \"Refrigerante\", \"Suco\",\n",
    "    \"Parmegiana\", \"Feijoada\", \"Nhoque\", \"Macarrão\", \"Refrigerante\", \"Suco\",\n",
    "    \"X-Burguer\", \"X-Salada\", \"X-Tudo\", \"Batata Frita\", \"Refrigerante\", \"Suco\",\n",
    "    \"Parmegiana\", \"Feijoada\", \"Nhoque\", \"Macarrão\", \"Refrigerante\", \"Suco\"\n",
    "]"
   ]
  },
  {
   "cell_type": "code",
   "execution_count": null,
   "id": "b39716d1",
   "metadata": {},
   "outputs": [],
   "source": [
    "valores = [\n",
    "    11.00, 15.00, 23.00, 10.00, 6.00, 7.00, 13.00, 17.00, 22.00, 12.00,\n",
    "    8.50, 9.00, 14.00, 15.00, 17.50, 14.00, 10.00, 10.00, 45.00, 38.00,\n",
    "    37.50, 36.00, 7.50, 6.50, 12.00, 14.00, 14.50, 13.50, 7.00, 7.50,\n",
    "    34.00, 35.00, 36.50, 41.00, 6.50, 6.00, 28.00, 26.00, 18.00, 21.50,\n",
    "    5.50, 6.00, 21.00, 18.00, 20.00, 19.50, 8.00, 10.50, 19.00, 25.00,\n",
    "    33.50, 12.00, 9.00, 7.50, 25.00, 21.50, 30.50, 27.50, 8.50, 9.00\n",
    "]\n"
   ]
  },
  {
   "cell_type": "code",
   "execution_count": null,
   "id": "72750f8b",
   "metadata": {},
   "outputs": [],
   "source": [
    "import random\n",
    "\n",
    "# Criar uma lista com os números de 1 a 100\n",
    "numeros = list(range(1, 101))\n",
    "\n",
    "# Estender a lista para ter um total de 200 elementos\n",
    "numeros.extend(random.choices(numeros, k=100))\n",
    "\n",
    "# Embaralhar a lista\n",
    "random.shuffle(numeros)\n",
    "\n",
    "# Ordenar a lista\n",
    "numeros_ordenados = sorted(numeros)\n",
    "\n",
    "# Imprimir os números ordenados\n",
    "for i in numeros_ordenados:\n",
    "    print(f\"{i}\")"
   ]
  }
 ],
 "metadata": {
  "kernelspec": {
   "display_name": "Python 3 (ipykernel)",
   "language": "python",
   "name": "python3"
  },
  "language_info": {
   "codemirror_mode": {
    "name": "ipython",
    "version": 3
   },
   "file_extension": ".py",
   "mimetype": "text/x-python",
   "name": "python",
   "nbconvert_exporter": "python",
   "pygments_lexer": "ipython3",
   "version": "3.9.13"
  }
 },
 "nbformat": 4,
 "nbformat_minor": 5
}
